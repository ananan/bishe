{
 "cells": [
  {
   "cell_type": "markdown",
   "metadata": {},
   "source": [
    "### 如何搭建 Jupyter Notebook 的云环境"
   ]
  },
  {
   "cell_type": "markdown",
   "metadata": {},
   "source": [
    "#### 1. 安装Jupyter"
   ]
  },
  {
   "cell_type": "markdown",
   "metadata": {},
   "source": [
    "IPython Notebook在4.0以后的版本重新命名为Jupyter Notebook，所以使用命令： pip install jupyter 即可安装"
   ]
  },
  {
   "cell_type": "markdown",
   "metadata": {},
   "source": [
    "#### 2. 设置登陆密码"
   ]
  },
  {
   "cell_type": "markdown",
   "metadata": {},
   "source": [
    "进入python交互式环境，使用如下命令即可设置密码： \n",
    "    from notebook.auth import passwd\n",
    "    passwd()\n",
    "按照提示输入两次密码确认即可产生一个sha1加密字符串，将其复制待用"
   ]
  },
  {
   "cell_type": "markdown",
   "metadata": {},
   "source": [
    "#### 3. 编辑Jupyter配置文件"
   ]
  },
  {
   "cell_type": "markdown",
   "metadata": {},
   "source": [
    "查看当前目录是否有 .jupyter 目录，若没有则使用命令：jupyter notebook --generate-config 即可生成该目录，进入，vi编辑jupyter_notebook_config.py\n",
    "然后 # 找到下面几项将前面的#去除，并进行相应的修改\n",
    "\n",
    "    # 设定ip访问，允许任意ip访问\n",
    "    c.NotebookApp.ip = '*'\n",
    "    # 不打开浏览器\n",
    "    c.NotebookApp.open_browser = False\n",
    "    # 用于访问的端口，设定一个不用的端口即可，默认设置为8888\n",
    "    c.NotebookApp.port = 8888\n",
    "    # 设置登录密码， 将刚刚复制的内容替换此处的xxx\n",
    "    c.NotebookApp.password = u'xxx'\n",
    "设置好之后确认你的云主机有开放8888的端口，阿里云主机在安全组设置即可"
   ]
  },
  {
   "cell_type": "markdown",
   "metadata": {},
   "source": [
    "### 4. 开始启动"
   ]
  },
  {
   "cell_type": "markdown",
   "metadata": {},
   "source": [
    "使用命令： jupyter notebook 启动，当然根据peter定律一般不会一次成功，有以下几种常见的报错：\n",
    "\n",
    "    Error1. OSError:  Cannot assign requested address：\n",
    "    A: 出现这个错误主要是sorket地址绑定出了问题，比如被占用什么的，如果前面已经设置 c.NotebookApp.ip = '*' 即允许任何ip访问一般不会出这个问题，如果出现的话在命令后加上参数： --ip=127.0.0.1 即可\n",
    "    \n",
    "    Error2. 打开地址后出现jupyter 404.。\n",
    "    A：将云主机重启，再启动jupyter即可\n",
    "    \n",
    "    WARNING: The notebook server is listening on all IP addresses and not using encryption. This is not recommended.\n",
    "    A: 命令后面加上参数： --allow-root 即可"
   ]
  },
  {
   "cell_type": "markdown",
   "metadata": {},
   "source": [
    "### 5. 愉快的用jupyter啦。。贴上一些常用的Markdown语法 "
   ]
  },
  {
   "cell_type": "markdown",
   "metadata": {},
   "source": [
    "#### 标题\n",
    "\n",
    "这是最为常用的格式，在平时常用的的文本编辑器中大多是这样实现的：输入文本、选中文本、设置标题格式。\n",
    "\n",
    "而在 Markdown 中，你只需要在文本前面加上 # 即可，同理、你还可以增加二级标题、三级标题、四级标题、五级标题和六级标题，总共六级，只需要增加 # 即可，标题字号相应降低。例如：\n",
    "\n",
    "# 一级标题\n",
    "## 二级标题\n",
    "### 三级标题\n",
    "#### 四级标题\n",
    "##### 五级标题\n",
    "###### 六级标题\n",
    "注：# 和「一级标题」之间建议保留一个字符的空格，这是最标准的 Markdown 写法。\n",
    "\n",
    "你可以你的编辑器中尝试输入这六级标题，可以参考下方的截图：\n",
    "\n",
    "\n",
    "一级标题至六级标题\n",
    "列表\n",
    "\n",
    "列表格式也很常用，在 Markdown 中，你只需要在文字前面加上 - 就可以了，例如：\n",
    "\n",
    "- 文本1\n",
    "- 文本2\n",
    "- 文本3\n",
    "如果你希望有序列表，\n",
    "也可以在文字前面加上 1. 2. 3. 就可以了，例如：\n",
    "\n",
    "1. 文本1\n",
    "2. 文本2\n",
    "3. 文本3\n",
    "注：-、1.和文本之间要保留一个字符的空格。\n",
    "\n",
    "列表案例截图如下：\n",
    "\n",
    "\n",
    "链接和图片\n",
    "\n",
    "在 Markdown 中，插入链接不需要其他按钮，你只需要使用 [显示文本](链接地址) 这样的语法即可，例如：\n",
    "\n",
    "[简书](http://www.jianshu.com)\n",
    "在 Markdown 中，插入图片不需要其他按钮，你只需要使用 ![](图片链接地址) 这样的语法即可，例如：\n",
    "\n",
    "![](http://upload-images.jianshu.io/upload_images/259-0ad0d0bfc1c608b6.jpg?imageMogr2/auto-orient/strip%7CimageView2/2/w/1240)\n",
    "注：插入图片的语法和链接的语法很像，只是前面多了一个 ！。\n",
    "\n",
    "插入链接和图片的案例截图：\n",
    "\n",
    "\n",
    "引用\n",
    "\n",
    "在我们写作的时候经常需要引用他人的文字，这个时候引用这个格式就很有必要了，在 Markdown 中，你只需要在你希望引用的文字前面加上 > 就好了，例如：\n",
    "\n",
    "> 一盏灯， 一片昏黄； 一简书， 一杯淡茶。 守着那一份淡定， 品读属于自己的寂寞。 保持淡定， 才能欣赏到最美丽的风景！ 保持淡定， 人生从此不再寂寞。\n",
    "注：> 和文本之间要保留一个字符的空格。\n",
    "\n",
    "最终显示的就是：\n",
    "\n",
    "一盏灯， 一片昏黄； 一简书， 一杯淡茶。 守着那一份淡定， 品读属于自己的寂寞。 保持淡定， 才能欣赏到最美丽的风景！ 保持淡定， 人生从此不再寂寞。\n",
    "引用的案例截图：\n",
    "\n",
    "\n",
    "粗体和斜体\n",
    "\n",
    "Markdown 的粗体和斜体也非常简单，用两个 * 包含一段文本就是粗体的语法，用一个 * 包含一段文本就是斜体的语法。例如：\n",
    "\n",
    " *一盏灯*， 一片昏黄；**一简书**， 一杯淡茶。 守着那一份淡定， 品读属于自己的寂寞。 保持淡定， 才能欣赏到最美丽的风景！ 保持淡定， 人生从此不再寂寞。\n",
    "最终显示的就是下文，其中「一盏灯」是斜体，「一简书」是粗体：\n",
    "\n",
    "一盏灯， 一片昏黄；一简书， 一杯淡茶。 守着那一份淡定， 品读属于自己的寂寞。 保持淡定， 才能欣赏到最美丽的风景！ 保持淡定， 人生从此不再寂寞。\n",
    "\n",
    "粗体和斜体的案例截图：\n",
    "\n",
    "\n",
    "代码引用\n",
    "\n",
    "需要引用代码时，如果引用的语句只有一段，不分行，可以用 ` 将语句包起来。\n",
    "如果引用的语句为多行，可以将```置于这段代码的首行和末行。\n",
    "代码引用的案例截图：\n",
    "\n",
    "\n",
    "表格\n",
    "\n",
    "相关代码：\n",
    "\n",
    "| Tables        | Are           | Cool  |\n",
    "| ------------- |:-------------:| -----:|\n",
    "| col 3 is      | right-aligned | $1600 |\n",
    "| col 2 is      | centered      |   $12 |\n",
    "| zebra stripes | are neat      |    $1 |\n",
    "显示效果：\n",
    "\n",
    "Tables\tAre\tCool\n",
    "col 3 is\tright-aligned\t$1600\n",
    "col 2 is\tcentered\t$12\n",
    "zebra stripes\tare neat\t$1\n",
    "\n",
    "相关代码：\n",
    "\n",
    "dog | bird | cat\n",
    "----|------|----\n",
    "foo | foo  | foo\n",
    "bar | bar  | bar\n",
    "baz | baz  | baz\n",
    "显示效果：\n",
    "\n",
    "dog\tbird\tcat\n",
    "foo\tfoo\tfoo\n",
    "bar\tbar\tbar\n",
    "baz\tbaz\tbaz\n",
    "显示链接中带括号的图片\n",
    "\n",
    "\n",
    "代码如下:\n",
    "\n",
    "![][1]\n",
    "[1]: http://latex.codecogs.com/gif.latex?\\prod%20\\(n_{i}\\)+1\n",
    "\n"
   ]
  },
  {
   "cell_type": "code",
   "execution_count": null,
   "metadata": {},
   "outputs": [],
   "source": []
  }
 ],
 "metadata": {
  "kernelspec": {
   "display_name": "Python 3",
   "language": "python",
   "name": "python3"
  },
  "language_info": {
   "codemirror_mode": {
    "name": "ipython",
    "version": 3
   },
   "file_extension": ".py",
   "mimetype": "text/x-python",
   "name": "python",
   "nbconvert_exporter": "python",
   "pygments_lexer": "ipython3",
   "version": "3.5.2"
  }
 },
 "nbformat": 4,
 "nbformat_minor": 2
}
